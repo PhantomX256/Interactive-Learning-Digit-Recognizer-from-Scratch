{
 "cells": [
  {
   "cell_type": "markdown",
   "metadata": {},
   "source": [
    "# Testing and interactive learning module\n",
    "\n",
    "This notebook includes the code and implementation of the interactive learning feature for this project. It explains how you can draw your own digits and ask the model to predict them. If the model's prediction is incorrect, you can provide feedback, allowing the model to learn from your example and improve its accuracy."
   ]
  },
  {
   "cell_type": "markdown",
   "metadata": {},
   "source": [
    "***\n",
    "\n",
    "## Neural network and model\n",
    "\n",
    "The neural network and model is described in the `train_model.ipynb` file. "
   ]
  },
  {
   "cell_type": "markdown",
   "metadata": {},
   "source": [
    "***\n",
    "\n",
    "## Code and Usage\n",
    "\n",
    "Below is the code and the procedure to use the model."
   ]
  },
  {
   "cell_type": "markdown",
   "metadata": {},
   "source": [
    "### Importing necessary libraries and functions"
   ]
  },
  {
   "cell_type": "code",
   "execution_count": 10,
   "metadata": {},
   "outputs": [],
   "source": [
    "import numpy as np\n",
    "from utils import preprocess_image, load_params, make_prediction, plot_image_with_prediction, display_error_and_wait, learn_from_input"
   ]
  },
  {
   "cell_type": "markdown",
   "metadata": {},
   "source": [
    "### Loading the trained parameters\n",
    "\n",
    "We load the params we got from training the model in `train_model.ipynb`."
   ]
  },
  {
   "cell_type": "code",
   "execution_count": 11,
   "metadata": {},
   "outputs": [],
   "source": [
    "W1, b1, W2, b2, W3, b3 = load_params('model_weights')"
   ]
  },
  {
   "cell_type": "markdown",
   "metadata": {},
   "source": [
    "### Interactive Learning Function\n",
    "\n",
    "This is the driver function that runs the interactive learning module. Here is a breakdown of how this function works:\n",
    "\n",
    "- The function takes `image_path` as a parameter (default set to `test_image.png`). This image is preprocessed and converted into a vector using the `preprocess_image()` function.\n",
    "- The image vector (`img_vector`) is then passed into the model to make a prediction using the `make_prediction()` function.\n",
    "- The prediction is plotted using `matplotlib`.\n",
    "- The user is prompted to confirm if the model's prediction is correct.\n",
    "- If the model's prediction is incorrect, the code uses this as a training example and updates the model accordingly.\n",
    "- If the model's prediction is correct, the code exits normally."
   ]
  },
  {
   "cell_type": "code",
   "execution_count": 12,
   "metadata": {},
   "outputs": [],
   "source": [
    "# defining an interactive learning model\n",
    "def interactive_learning(image_path, W1, b1, W2, b2, W3, b3):\n",
    "    # creating an image vector\n",
    "    img_vector = preprocess_image(image_path)\n",
    "    img_vector = img_vector.reshape(1, -1)\n",
    "\n",
    "    # making a prediction\n",
    "    prediction = make_prediction(W1, b1, W2, b2, W3, b3, img_vector)\n",
    "    print(f'Predicted number: {prediction}')\n",
    "    plot_image_with_prediction(prediction)  # plotting the prediction\n",
    "\n",
    "    # declaring variables\n",
    "    is_input_correct = \"\"\n",
    "    correct_prediction = 0\n",
    "\n",
    "    # keep asking till the user enters correct input\n",
    "    while True:\n",
    "        try:\n",
    "            is_input_correct = input('Was the prediction correct? (y/n): ').lower()\n",
    "            if is_input_correct in ['y', 'n']:\n",
    "                break\n",
    "            else:\n",
    "                raise ValueError\n",
    "        except ValueError:\n",
    "            display_error_and_wait('Incorrect input. Please enter y or n.')\n",
    "\n",
    "    # if the prediction was incorrect\n",
    "    if is_input_correct == 'n':\n",
    "        # keep asking till the user enters correct input\n",
    "        while True:\n",
    "            try:\n",
    "                correct_prediction = int(input('What is the correct prediction? [0-9]: '))\n",
    "                if 0 <= correct_prediction <= 9:\n",
    "                    break\n",
    "                else:\n",
    "                    raise ValueError\n",
    "            except ValueError:\n",
    "                display_error_and_wait('Incorrect input. Please enter a number between 0 and 9.')\n",
    "        W1, b1, W2, b2, W3, b3 = learn_from_input(W1, b1, W2, b2, W3, b3, img_vector, correct_prediction, 0.1)\n",
    "        print('Learned successfully')\n",
    "    else:\n",
    "        print(\"\\033[1;32;40m Great! The model predicted correctly. Thank you. \\n\")\n",
    "    return W1, b1, W2, b2, W3, b3\n"
   ]
  },
  {
   "cell_type": "markdown",
   "metadata": {},
   "source": [
    "### How to Use the Model for Yourself\n",
    "\n",
    "To provide a custom input to the model, follow these steps:\n",
    "\n",
    "1. Open `test_image.png` in Paint or your preferred image editing software.\n",
    "2. Clear the previous drawing and create your own input using white color on a black canvas.\n",
    "3. If you wish to change the input image's name or path, specify the appropriate path and pass it to the function."
   ]
  },
  {
   "cell_type": "code",
   "execution_count": 13,
   "metadata": {},
   "outputs": [
    {
     "name": "stdout",
     "output_type": "stream",
     "text": [
      "Predicted number: [1]\n"
     ]
    },
    {
     "data": {
      "image/png": "[encoded data removed]",
      "text/plain": [
       "<Figure size 640x480 with 1 Axes>"
      ]
     },
     "metadata": {},
     "output_type": "display_data"
    },
    {
     "name": "stdout",
     "output_type": "stream",
     "text": [
      "\u001b[1;32;40m Great! The model predicted correctly. Thank you. \n",
      "\n"
     ]
    }
   ],
   "source": [
    "W1, b1, W2, b2, W3, b3 = interactive_learning('test_image.png', W1, b1, W2, b2, W3, b3)"
   ]
  }
 ],
 "metadata": {
  "kernelspec": {
   "display_name": "Python 3",
   "language": "python",
   "name": "python3"
  },
  "language_info": {
   "codemirror_mode": {
    "name": "ipython",
    "version": 3
   },
   "file_extension": ".py",
   "mimetype": "text/x-python",
   "name": "python",
   "nbconvert_exporter": "python",
   "pygments_lexer": "ipython3",
   "version": "3.12.4"
  }
 },
 "nbformat": 4,
 "nbformat_minor": 2
}
