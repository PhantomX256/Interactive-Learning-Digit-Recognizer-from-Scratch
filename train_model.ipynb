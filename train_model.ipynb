{
 "cells": [
  {
   "cell_type": "markdown",
   "metadata": {},
   "source": [
    "# Interactive Learning Digit Recogonizer\n",
    "\n",
    "This project shows how to make a number recognizer using a neural network that was built from scratch with numpy. The interactive learning module is one of the best parts of this project. It lets users draw their own numbers and check the model's estimates. If the model's guess is wrong, it uses what the user types as an example to get better at recogonizing the digit."
   ]
  },
  {
   "cell_type": "markdown",
   "metadata": {},
   "source": [
    "***\n",
    "## Libraries Used\n",
    "1. Numpy\n",
    "2. Matplotlib\n",
    "3. OpenCV\n",
    "4. Scitkit-Learn"
   ]
  },
  {
   "cell_type": "markdown",
   "metadata": {},
   "source": [
    "***\n",
    "\n",
    "## Neural Network\n",
    "\n",
    "<center><img src=\"Neural_Net.png\"/></center>"
   ]
  },
  {
   "cell_type": "markdown",
   "metadata": {},
   "source": [
    "***\n",
    "\n",
    "## Dataset Used\n",
    "\n",
    "https://www.kaggle.com/datasets/animatronbot/mnist-digit-recognizer"
   ]
  },
  {
   "cell_type": "markdown",
   "metadata": {},
   "source": [
    "***\n",
    "## References\n",
    "\n",
    "The neural network in this project was inspired by [Samson Zhang's video](https://www.youtube.com/watch?v=w8yWXqWQYmU&pp=ygUbbmV1cmFsIG5ldHdvcmsgZnJvbSBzY3JhdGNo), where he beautifully explains the concepts and demonstrates the code. While the dataset remains the same, this repository presents my own interpretation and implementation of the model."
   ]
  },
  {
   "cell_type": "markdown",
   "metadata": {},
   "source": [
    "***\n",
    "## Code\n",
    "\n",
    "Below is the necessary math and code to implement the math for the model"
   ]
  },
  {
   "cell_type": "markdown",
   "metadata": {},
   "source": [
    "### Importing the necessary libraries"
   ]
  },
  {
   "cell_type": "code",
   "execution_count": 2,
   "metadata": {},
   "outputs": [],
   "source": [
    "import numpy as np\n",
    "from matplotlib import pyplot as plt\n",
    "from utils import load_data\n",
    "import os"
   ]
  },
  {
   "cell_type": "markdown",
   "metadata": {},
   "source": [
    "### Loading the dataset"
   ]
  },
  {
   "cell_type": "code",
   "execution_count": 3,
   "metadata": {},
   "outputs": [],
   "source": [
    "X_train, X_test, Y_train, Y_test = load_data()"
   ]
  },
  {
   "cell_type": "code",
   "execution_count": 4,
   "metadata": {},
   "outputs": [
    {
     "name": "stdout",
     "output_type": "stream",
     "text": [
      "Shape of training input: (37800, 784)\n",
      "Shape of training output: (37800,)\n",
      "Shape of testing input: (4200, 784)\n",
      "Shape of testing output: (4200,)\n"
     ]
    }
   ],
   "source": [
    "print(f'Shape of training input: {X_train.shape}')\n",
    "print(f'Shape of training output: {Y_train.shape}')\n",
    "print(f'Shape of testing input: {X_test.shape}')\n",
    "print(f'Shape of testing output: {Y_test.shape}')"
   ]
  },
  {
   "cell_type": "markdown",
   "metadata": {},
   "source": [
    "### Defining activation functions of the layers\n",
    "\n",
    "$\n",
    "    \\sigma = \\text{ReLU function} \\\\\n",
    "    g = \\text{Softmax function}\n",
    "$\n",
    "$$\\begin{align}\n",
    "    \\sigma(Z) &= \n",
    "    \\begin{cases} \n",
    "        Z & \\text{if } Z > 0 \\\\\n",
    "        0 & \\text{if } Z \\leq 0 \n",
    "    \\end{cases}\\\\\n",
    "    g(Z_i) &= \\dfrac{e^{Z_i}}{\\sum e^{Z_j}}\n",
    "\\end{align}$$"
   ]
  },
  {
   "cell_type": "code",
   "execution_count": 4,
   "metadata": {},
   "outputs": [],
   "source": [
    "# defining activation functions\n",
    "def ReLU(z):  # sigma\n",
    "    return np.maximum(0, z)\n",
    "\n",
    "def softmax(z):  # g\n",
    "    exp_z = np.exp(z - np.max(z, axis=1, keepdims=True))\n",
    "    return exp_z / np.sum(exp_z, axis=1, keepdims=True)"
   ]
  },
  {
   "cell_type": "markdown",
   "metadata": {},
   "source": [
    "### One hot function\n",
    "\n",
    "The function `label_conversion()` converts the labels given in the dataset into vectors corresponding to the softmax output."
   ]
  },
  {
   "cell_type": "code",
   "execution_count": 5,
   "metadata": {},
   "outputs": [],
   "source": [
    "# converting label into softmax labels\n",
    "def label_conversion(y):\n",
    "    y_converted = np.zeros((y.size, y.max() + 1))\n",
    "    y_converted[np.arange(y.size), y] = 1\n",
    "    return y_converted"
   ]
  },
  {
   "cell_type": "markdown",
   "metadata": {},
   "source": [
    "### Initializing the parameters\n",
    "$\n",
    "    \\text{Hidden Layer 1:}\n",
    "$\n",
    "    $$ \\begin{align}\n",
    "        \\text{Dimension of }W^{[1]} &= (784 \\times 128) \\\\\n",
    "        \\text{Dimension of }b^{[1]} &= (1 \\times 128) \\\\\n",
    "    \\end{align}$$\n",
    "$\n",
    "    \\text{Hidden Layer 2:}\n",
    "$\n",
    "    $$\\begin{align}\n",
    "        \\text{Dimension of }W^{[2]} &= (128 \\times 64) \\\\\n",
    "        \\text{Dimension of }b^{[2]} &= (1 \\times 64) \\\\\n",
    "    \\end{align}$$\n",
    "$\n",
    "    \\text{Output Layer:}\n",
    "$\n",
    "    $$\\begin{align}\n",
    "        \\text{Dimension of }W^{[3]} &= (64 \\times 10) \\\\\n",
    "        \\text{Dimension of }b^{[3]} &= (1 \\times 10) \\\\\n",
    "    \\end{align}$$"
   ]
  },
  {
   "cell_type": "code",
   "execution_count": 6,
   "metadata": {},
   "outputs": [],
   "source": [
    "# defining a function to initialize parameters to initialize parameters\n",
    "def init_params():\n",
    "    W1 = np.random.randn(784, 128) * np.sqrt(2. / 784)\n",
    "    b1 = np.zeros((1, 128))\n",
    "    W2 = np.random.randn(128, 64) * np.sqrt(2. / 128)\n",
    "    b2 = np.zeros((1, 64))\n",
    "    W3 = np.random.randn(64, 10) * np.sqrt(2. / 64)\n",
    "    b3 = np.zeros((1, 10))\n",
    "    return W1, b1, W2, b2, W3, b3"
   ]
  },
  {
   "cell_type": "markdown",
   "metadata": {},
   "source": [
    "### Function to calculate loss\n",
    "\n",
    "Loss function uses cross entropy loss function\n",
    "\n",
    "$$\n",
    "    \\text{Loss} = \\sum y_{i} log(A^{[3]}_i)\n",
    "$$"
   ]
  },
  {
   "cell_type": "code",
   "execution_count": 7,
   "metadata": {},
   "outputs": [],
   "source": [
    "# defining a function to calculate the cost\n",
    "def calculate_cost(A3, Y):\n",
    "    m = Y.shape[0]\n",
    "    Y_one_hot = label_conversion(Y)\n",
    "    epsilon = 1e-15\n",
    "    A3 = np.clip(A3, epsilon, 1 - epsilon)\n",
    "    log_probs = -np.sum(Y_one_hot * np.log(A3)) / m\n",
    "    return log_probs"
   ]
  },
  {
   "cell_type": "markdown",
   "metadata": {},
   "source": [
    "### Function to get the prediction and the accuracy of the model"
   ]
  },
  {
   "cell_type": "code",
   "execution_count": 8,
   "metadata": {},
   "outputs": [],
   "source": [
    "def get_prediction(A3):\n",
    "    return np.argmax(A3, axis=1)\n",
    "\n",
    "def get_accuracy(predictions, Y):\n",
    "    return np.mean(predictions == Y) * 100"
   ]
  },
  {
   "cell_type": "markdown",
   "metadata": {},
   "source": [
    "### Defining forward propagation\n",
    "$\n",
    "    \\text{Hidden Layer 1:} \\\\\n",
    "$\n",
    "    $$\\begin{align}\n",
    "        Z^{[1]} &= X \\cdot W^{[1]} + b^{[1]} \\\\\n",
    "        A^{[1]} &= \\sigma(Z^{[1]}) \\\\\n",
    "    \\end{align}$$\n",
    "$\n",
    "    \\text{Hidden Layer 2:} \\\\\n",
    "$\n",
    "    $$\\begin{align}\n",
    "        Z^{[2]} &= A^{[1]} \\cdot W^{[2]} + b^{[2]} \\\\\n",
    "        A^{[2]} &= \\sigma(Z^{[2]}) \\\\\n",
    "    \\end{align}$$\n",
    "$\n",
    "    \\text{Output Layer:} \\\\\n",
    "$\n",
    "    $$\\begin{align}\n",
    "        Z^{[3]} &= A^{[2]} \\cdot W^{[3]} + b^{[3]} \\\\\n",
    "        A^{[3]} &= g(Z^{[3]})\n",
    "    \\end{align}$$"
   ]
  },
  {
   "cell_type": "code",
   "execution_count": 9,
   "metadata": {},
   "outputs": [],
   "source": [
    "# defining forward propagation\n",
    "def forward_prop(W1, b1, W2, b2, W3, b3, X):\n",
    "    Z1 = np.dot(X, W1) + b1  # (m, 784) . (784, 128) + (1, 128) = (m, 128)\n",
    "    A1 = ReLU(Z1)   \n",
    "    Z2 = np.dot(A1, W2) + b2  # (m, 128) . (128, 64) + (1, 64) = (m, 64)\n",
    "    A2 = ReLU(Z2)\n",
    "    Z3 = np.dot(A2, W3) + b3  # (m, 64) . (64, 10) + (1, 10) = (m, 10)\n",
    "    A3 = softmax(Z3)\n",
    "    return Z1, A1, Z2, A2, Z3, A3"
   ]
  },
  {
   "cell_type": "markdown",
   "metadata": {},
   "source": [
    "### Defining derivative of activation functions\n",
    "\n",
    "$\n",
    "    \\text{Derivative of ReLU} = \\sigma '\n",
    "$\n",
    "$$\\begin{align}\n",
    "    \\sigma '(Z) = \n",
    "    \\begin{cases}\n",
    "        1 & \\text{if } Z > 0\\\\\n",
    "        0 & \\text{if } Z \\leq 0\n",
    "    \\end{cases}\n",
    "\\end{align}$$"
   ]
  },
  {
   "cell_type": "code",
   "execution_count": 10,
   "metadata": {},
   "outputs": [],
   "source": [
    "# defining derivative functions\n",
    "def deriv_ReLU(Z):\n",
    "    return Z > 0"
   ]
  },
  {
   "cell_type": "markdown",
   "metadata": {},
   "source": [
    "### Defining Back Propagation for Gradient descent\n",
    "$\n",
    "    \\text{Note: T denotes Transpose, m denotes the number of training examples} \\\\\n",
    "    \\text{ } \\\\\n",
    "    \\text{Output Layer:} \\\\\n",
    "$\n",
    "    $$\\begin{align}\n",
    "        dZ^{[3]} &= A^{[3]} - Y \\\\\n",
    "        dW^{[3]} &= \\frac{1}{m} \\times ( A^{[2] T} \\cdot dZ^{[3]} ) \\\\\n",
    "        db^{[3]} &= \\frac1m \\times \\sum dZ^{[3]}_i \\\\\n",
    "    \\end{align}$$\n",
    "$\n",
    "    \\text{ } \\\\\n",
    "    \\text{Hidden Layer 2:} \\\\\n",
    "$\n",
    "    $$\\begin{align}\n",
    "        dZ^{[2]} &= ( dZ^{[2]} \\cdot W^{[3] T}) \\times \\sigma ' (Z^{[2]} ) \\\\\n",
    "        dW^{[2]} &= \\frac{1}{m} \\times ( A^{[1] T} \\cdot dZ^{[2]} ) \\\\\n",
    "        db^{[2]} &= \\frac1m \\times \\sum dZ^{[2]}_i \\\\\n",
    "    \\end{align}$$\n",
    "$\n",
    "    \\text{ } \\\\\n",
    "    \\text{Hidden Layer 1:} \\\\\n",
    "$\n",
    "    $$\\begin{align}\n",
    "        dZ^{[1]} &= ( dZ^{[2]} \\cdot W^{[2] T} ) \\times \\sigma ' (Z^{[1]}) \\\\\n",
    "        dW^{[1]} &= \\frac{1}{m} \\times ( X^{T} \\cdot dZ^{[1]} ) \\\\\n",
    "        db^{[1]} &= \\frac1m \\times \\sum dZ^{[1]}_i \\\\\n",
    "    \\end{align}$$"
   ]
  },
  {
   "cell_type": "code",
   "execution_count": 11,
   "metadata": {},
   "outputs": [],
   "source": [
    "# defining backwards propagation\n",
    "def backward_prop(Z1, Z2, A1, A2, A3, W3, W2, X, Y):\n",
    "    y_labelled = label_conversion(Y)\n",
    "    m = Y.size\n",
    "\n",
    "    dZ3 = A3 - y_labelled\n",
    "    dW3 = np.dot(A2.T, dZ3) / m\n",
    "    db3 = np.sum(dZ3, axis=0, keepdims=True) / m\n",
    "\n",
    "    dZ2 = np.dot(dZ3, W3.T) * deriv_ReLU(Z2)\n",
    "    dW2 = np.dot(A1.T, dZ2) / m\n",
    "    db2 = np.sum(dZ2, axis=0, keepdims=True) / m\n",
    "\n",
    "    dZ1 = np.dot(dZ2, W2.T) * deriv_ReLU(Z1)\n",
    "    dW1 = np.dot(X.T, dZ1) / m\n",
    "    db1 = np.sum(dZ1, axis=0, keepdims=True) / m\n",
    "    \n",
    "    return dW1, db1, dW2, db2, dW3, db3"
   ]
  },
  {
   "cell_type": "markdown",
   "metadata": {},
   "source": [
    "### Function to update the parameters based on learning rate\n",
    "\n",
    "$\n",
    "    \\text{Hidden Layer 1:}\n",
    "$\n",
    "$$\\begin{align}\n",
    "    W^{[1]} &= W^{[1]} - \\alpha \\times dW^{[1]} \\\\\n",
    "    b^{[1]} &= b^{[1]} - \\alpha \\times db^{[1]}\n",
    "\\end{align}$$\n",
    "$\n",
    "    \\text{Hidden Layer 2:}\n",
    "$\n",
    "$$\\begin{align}\n",
    "    W^{[2]} &= W^{[2]} - \\alpha \\times dW^{[2]} \\\\\n",
    "    b^{[2]} &= b^{[2]} - \\alpha \\times db^{[2]}\n",
    "\\end{align}$$\n",
    "$\n",
    "    \\text{Output Layer:}\n",
    "$\n",
    "$$\\begin{align}\n",
    "    W^{[3]} &= W^{[3]} - \\alpha \\times dW^{[3]} \\\\\n",
    "    b^{[3]} &= b^{[3]} - \\alpha \\times db^{[3]}\n",
    "\\end{align}$$"
   ]
  },
  {
   "cell_type": "code",
   "execution_count": 12,
   "metadata": {},
   "outputs": [],
   "source": [
    "# defining a function to update the parameters\n",
    "def update_params(W1, b1, W2, b2, W3, b3, dW1, db1, dW2, db2, dW3, db3, alpha):\n",
    "    W1 -= alpha * dW1\n",
    "    b1 -= alpha * db1\n",
    "    W2 -= alpha * dW2\n",
    "    b2 -= alpha * db2\n",
    "    W3 -= alpha * dW3\n",
    "    b3 -= alpha * db3\n",
    "    return W1, b1, W2, b2, W3, b3"
   ]
  },
  {
   "cell_type": "markdown",
   "metadata": {},
   "source": [
    "### Function to run gradient descent\n",
    "\n",
    "Runs the actual gradient descent allowing the neural network to learn over the training examples and produce the adjusted values of weights and bias."
   ]
  },
  {
   "cell_type": "code",
   "execution_count": 13,
   "metadata": {},
   "outputs": [],
   "source": [
    "# defining gradient descent\n",
    "def gradient_descent(alpha, iterations, X, Y):\n",
    "    W1, b1, W2, b2, W3, b3 = init_params()\n",
    "    for i in range(iterations + 1):\n",
    "        Z1, A1, Z2, A2, Z3, A3 = forward_prop(W1, b1, W2, b2, W3, b3, X)\n",
    "        dW1, db1, dW2, db2, dW3, db3 = backward_prop(Z1, Z2, A1, A2, A3, W3, W2, X, Y)\n",
    "        W1, b1, W2, b2, W3, b3 = update_params(W1, b1, W2, b2, W3, b3, dW1, db1, dW2, db2, dW3, db3, alpha)\n",
    "        # log a few results\n",
    "        if (i % 10 == 0 or i == iterations):  # Log every 10 iterations\n",
    "            cost = calculate_cost(A3, Y) \n",
    "            predictions = get_prediction(A3)\n",
    "            accuracy = get_accuracy(predictions, Y)\n",
    "            print(f'Iteration: {i} ; Cost: {cost:.2f} ; Accuracy: {accuracy:.2f}')  # Log cost and accuracy\n",
    "    return W1, b1, W2, b2, W3, b3"
   ]
  },
  {
   "cell_type": "markdown",
   "metadata": {},
   "source": [
    "### Running the model\n",
    "\n",
    "$\n",
    "    \\text{Setting the values of constants}\n",
    "$\n",
    "$$\\begin{align}\n",
    "    \\alpha &= 0.1 \\\\\n",
    "    \\text{Iterations} &= 1000\n",
    "\\end{align}$$"
   ]
  },
  {
   "cell_type": "code",
   "execution_count": 14,
   "metadata": {},
   "outputs": [
    {
     "name": "stdout",
     "output_type": "stream",
     "text": [
      "Iteration: 0 ; Cost: 2.43 ; Accuracy: 6.93\n",
      "Iteration: 10 ; Cost: 1.66 ; Accuracy: 61.96\n",
      "Iteration: 20 ; Cost: 1.08 ; Accuracy: 75.98\n",
      "Iteration: 30 ; Cost: 0.77 ; Accuracy: 81.74\n",
      "Iteration: 40 ; Cost: 0.63 ; Accuracy: 84.34\n",
      "Iteration: 50 ; Cost: 0.55 ; Accuracy: 85.97\n",
      "Iteration: 60 ; Cost: 0.49 ; Accuracy: 86.97\n",
      "Iteration: 70 ; Cost: 0.46 ; Accuracy: 87.76\n",
      "Iteration: 80 ; Cost: 0.43 ; Accuracy: 88.38\n",
      "Iteration: 90 ; Cost: 0.41 ; Accuracy: 88.78\n",
      "Iteration: 100 ; Cost: 0.39 ; Accuracy: 89.25\n",
      "Iteration: 110 ; Cost: 0.37 ; Accuracy: 89.60\n",
      "Iteration: 120 ; Cost: 0.36 ; Accuracy: 89.86\n",
      "Iteration: 130 ; Cost: 0.35 ; Accuracy: 90.12\n",
      "Iteration: 140 ; Cost: 0.34 ; Accuracy: 90.34\n",
      "Iteration: 150 ; Cost: 0.33 ; Accuracy: 90.52\n",
      "Iteration: 160 ; Cost: 0.32 ; Accuracy: 90.72\n",
      "Iteration: 170 ; Cost: 0.32 ; Accuracy: 90.88\n",
      "Iteration: 180 ; Cost: 0.31 ; Accuracy: 91.04\n",
      "Iteration: 190 ; Cost: 0.30 ; Accuracy: 91.21\n",
      "Iteration: 200 ; Cost: 0.30 ; Accuracy: 91.36\n",
      "Iteration: 210 ; Cost: 0.29 ; Accuracy: 91.51\n",
      "Iteration: 220 ; Cost: 0.29 ; Accuracy: 91.62\n",
      "Iteration: 230 ; Cost: 0.29 ; Accuracy: 91.76\n",
      "Iteration: 240 ; Cost: 0.28 ; Accuracy: 91.89\n",
      "Iteration: 250 ; Cost: 0.28 ; Accuracy: 92.02\n",
      "Iteration: 260 ; Cost: 0.27 ; Accuracy: 92.15\n",
      "Iteration: 270 ; Cost: 0.27 ; Accuracy: 92.29\n",
      "Iteration: 280 ; Cost: 0.27 ; Accuracy: 92.36\n",
      "Iteration: 290 ; Cost: 0.26 ; Accuracy: 92.46\n",
      "Iteration: 300 ; Cost: 0.26 ; Accuracy: 92.54\n",
      "Iteration: 310 ; Cost: 0.26 ; Accuracy: 92.63\n",
      "Iteration: 320 ; Cost: 0.25 ; Accuracy: 92.75\n",
      "Iteration: 330 ; Cost: 0.25 ; Accuracy: 92.82\n",
      "Iteration: 340 ; Cost: 0.25 ; Accuracy: 92.88\n",
      "Iteration: 350 ; Cost: 0.24 ; Accuracy: 92.97\n",
      "Iteration: 360 ; Cost: 0.24 ; Accuracy: 93.03\n",
      "Iteration: 370 ; Cost: 0.24 ; Accuracy: 93.11\n",
      "Iteration: 380 ; Cost: 0.24 ; Accuracy: 93.19\n",
      "Iteration: 390 ; Cost: 0.23 ; Accuracy: 93.27\n",
      "Iteration: 400 ; Cost: 0.23 ; Accuracy: 93.32\n",
      "Iteration: 410 ; Cost: 0.23 ; Accuracy: 93.41\n",
      "Iteration: 420 ; Cost: 0.23 ; Accuracy: 93.48\n",
      "Iteration: 430 ; Cost: 0.22 ; Accuracy: 93.54\n",
      "Iteration: 440 ; Cost: 0.22 ; Accuracy: 93.63\n",
      "Iteration: 450 ; Cost: 0.22 ; Accuracy: 93.71\n",
      "Iteration: 460 ; Cost: 0.22 ; Accuracy: 93.79\n",
      "Iteration: 470 ; Cost: 0.22 ; Accuracy: 93.85\n",
      "Iteration: 480 ; Cost: 0.21 ; Accuracy: 93.88\n",
      "Iteration: 490 ; Cost: 0.21 ; Accuracy: 93.93\n",
      "Iteration: 500 ; Cost: 0.21 ; Accuracy: 93.98\n",
      "Iteration: 510 ; Cost: 0.21 ; Accuracy: 94.04\n",
      "Iteration: 520 ; Cost: 0.21 ; Accuracy: 94.10\n",
      "Iteration: 530 ; Cost: 0.20 ; Accuracy: 94.14\n",
      "Iteration: 540 ; Cost: 0.20 ; Accuracy: 94.19\n",
      "Iteration: 550 ; Cost: 0.20 ; Accuracy: 94.24\n",
      "Iteration: 560 ; Cost: 0.20 ; Accuracy: 94.31\n",
      "Iteration: 570 ; Cost: 0.20 ; Accuracy: 94.37\n",
      "Iteration: 580 ; Cost: 0.20 ; Accuracy: 94.42\n",
      "Iteration: 590 ; Cost: 0.19 ; Accuracy: 94.48\n",
      "Iteration: 600 ; Cost: 0.19 ; Accuracy: 94.53\n",
      "Iteration: 610 ; Cost: 0.19 ; Accuracy: 94.56\n",
      "Iteration: 620 ; Cost: 0.19 ; Accuracy: 94.60\n",
      "Iteration: 630 ; Cost: 0.19 ; Accuracy: 94.66\n",
      "Iteration: 640 ; Cost: 0.19 ; Accuracy: 94.71\n",
      "Iteration: 650 ; Cost: 0.18 ; Accuracy: 94.76\n",
      "Iteration: 660 ; Cost: 0.18 ; Accuracy: 94.79\n",
      "Iteration: 670 ; Cost: 0.18 ; Accuracy: 94.84\n",
      "Iteration: 680 ; Cost: 0.18 ; Accuracy: 94.86\n",
      "Iteration: 690 ; Cost: 0.18 ; Accuracy: 94.92\n",
      "Iteration: 700 ; Cost: 0.18 ; Accuracy: 95.00\n",
      "Iteration: 710 ; Cost: 0.18 ; Accuracy: 95.05\n",
      "Iteration: 720 ; Cost: 0.17 ; Accuracy: 95.11\n",
      "Iteration: 730 ; Cost: 0.17 ; Accuracy: 95.15\n",
      "Iteration: 740 ; Cost: 0.17 ; Accuracy: 95.17\n",
      "Iteration: 750 ; Cost: 0.17 ; Accuracy: 95.20\n",
      "Iteration: 760 ; Cost: 0.17 ; Accuracy: 95.26\n",
      "Iteration: 770 ; Cost: 0.17 ; Accuracy: 95.30\n",
      "Iteration: 780 ; Cost: 0.17 ; Accuracy: 95.34\n",
      "Iteration: 790 ; Cost: 0.17 ; Accuracy: 95.37\n",
      "Iteration: 800 ; Cost: 0.16 ; Accuracy: 95.42\n",
      "Iteration: 810 ; Cost: 0.16 ; Accuracy: 95.47\n",
      "Iteration: 820 ; Cost: 0.16 ; Accuracy: 95.49\n",
      "Iteration: 830 ; Cost: 0.16 ; Accuracy: 95.53\n",
      "Iteration: 840 ; Cost: 0.16 ; Accuracy: 95.57\n",
      "Iteration: 850 ; Cost: 0.16 ; Accuracy: 95.61\n",
      "Iteration: 860 ; Cost: 0.16 ; Accuracy: 95.64\n",
      "Iteration: 870 ; Cost: 0.16 ; Accuracy: 95.66\n",
      "Iteration: 880 ; Cost: 0.16 ; Accuracy: 95.69\n",
      "Iteration: 890 ; Cost: 0.15 ; Accuracy: 95.71\n",
      "Iteration: 900 ; Cost: 0.15 ; Accuracy: 95.73\n",
      "Iteration: 910 ; Cost: 0.15 ; Accuracy: 95.75\n",
      "Iteration: 920 ; Cost: 0.15 ; Accuracy: 95.77\n",
      "Iteration: 930 ; Cost: 0.15 ; Accuracy: 95.80\n",
      "Iteration: 940 ; Cost: 0.15 ; Accuracy: 95.83\n",
      "Iteration: 950 ; Cost: 0.15 ; Accuracy: 95.87\n",
      "Iteration: 960 ; Cost: 0.15 ; Accuracy: 95.89\n",
      "Iteration: 970 ; Cost: 0.15 ; Accuracy: 95.93\n",
      "Iteration: 980 ; Cost: 0.15 ; Accuracy: 95.95\n",
      "Iteration: 990 ; Cost: 0.14 ; Accuracy: 95.97\n",
      "Iteration: 1000 ; Cost: 0.14 ; Accuracy: 95.99\n"
     ]
    }
   ],
   "source": [
    "# running the actual model\n",
    "W1, b1, W2, b2, W3, b3 = gradient_descent(0.1, 1000, X_train / 255.0, Y_train) # passing a normalized dataset"
   ]
  },
  {
   "cell_type": "markdown",
   "metadata": {},
   "source": [
    "### Function to make predictions"
   ]
  },
  {
   "cell_type": "code",
   "execution_count": 15,
   "metadata": {},
   "outputs": [],
   "source": [
    "# defining a function to make predictions\n",
    "def make_predictions(W1, b1, W2, b2, W3, b3, X):\n",
    "    Z1, A1, Z2, A2, Z3, A3 = forward_prop(W1, b1, W2, b2, W3, b3, X)\n",
    "    return A3"
   ]
  },
  {
   "cell_type": "markdown",
   "metadata": {},
   "source": [
    "### Making predictions in order to test the accuracy of the model"
   ]
  },
  {
   "cell_type": "code",
   "execution_count": 16,
   "metadata": {},
   "outputs": [
    {
     "name": "stdout",
     "output_type": "stream",
     "text": [
      "Accuracy of the model: 94.43\n"
     ]
    }
   ],
   "source": [
    "predictions = make_predictions(W1, b1, W2, b2, W3, b3, X_test)\n",
    "accuracy = get_accuracy(get_prediction(predictions), Y_test)\n",
    "print(f'Accuracy of the model: {accuracy:.2f}')"
   ]
  },
  {
   "cell_type": "markdown",
   "metadata": {},
   "source": [
    "### Function to save the params"
   ]
  },
  {
   "cell_type": "code",
   "execution_count": 23,
   "metadata": {},
   "outputs": [],
   "source": [
    "# Define a function to save the model parameters\n",
    "def save_params(W1, b1, W2, b2, W3, b3, filename_prefix):\n",
    "    # Ensure the directory exists\n",
    "    if not os.path.exists('weights'):\n",
    "        os.makedirs('weights')\n",
    "\n",
    "    # Save the parameters to the specified directory\n",
    "    np.save(os.path.join('weights', f'{filename_prefix}_W1.npy'), W1)\n",
    "    np.save(os.path.join('weights', f'{filename_prefix}_b1.npy'), b1)\n",
    "    np.save(os.path.join('weights', f'{filename_prefix}_W2.npy'), W2)\n",
    "    np.save(os.path.join('weights', f'{filename_prefix}_b2.npy'), b2)\n",
    "    np.save(os.path.join('weights', f'{filename_prefix}_W3.npy'), W3)\n",
    "    np.save(os.path.join('weights', f'{filename_prefix}_b3.npy'), b3)"
   ]
  },
  {
   "cell_type": "code",
   "execution_count": 24,
   "metadata": {},
   "outputs": [],
   "source": [
    "save_params(W1, b1, W2, b2, W3, b3, 'model_weights')"
   ]
  },
  {
   "cell_type": "markdown",
   "metadata": {},
   "source": [
    "### Function to check the model's accuracy\n",
    "\n",
    "We can see how the test performs on each test dataset"
   ]
  },
  {
   "cell_type": "code",
   "execution_count": 32,
   "metadata": {},
   "outputs": [],
   "source": [
    "def test_prediction(index, W1, b1, W2, b2, W3, b3):\n",
    "    current_image = X_test[index, :, None]\n",
    "    prediction = make_predictions(W1, b1, W2, b2, W3, b3, X_test[index, :, None].T)\n",
    "    label = Y_test[index]\n",
    "    print(\"Prediction: \", np.argmax(prediction))\n",
    "    print(\"Label: \", label)\n",
    "    \n",
    "    current_image = current_image.reshape((28, 28)) * 255\n",
    "    plt.gray()\n",
    "    plt.imshow(current_image, interpolation='nearest')\n",
    "    plt.show()"
   ]
  },
  {
   "cell_type": "markdown",
   "metadata": {},
   "source": [
    "Set the value of `index` to manually see how the model performs in the testing dataset."
   ]
  },
  {
   "cell_type": "code",
   "execution_count": 36,
   "metadata": {},
   "outputs": [
    {
     "name": "stdout",
     "output_type": "stream",
     "text": [
      "Prediction:  2\n",
      "Label:  2\n"
     ]
    },
    {
     "data": {
      "image/png": "[encoded data removed]",
      "text/plain": [
       "<Figure size 640x480 with 1 Axes>"
      ]
     },
     "metadata": {},
     "output_type": "display_data"
    }
   ],
   "source": [
    "test_prediction(7, W1, b1, W2, b2, W3, b3)"
   ]
  }
 ],
 "metadata": {
  "kernelspec": {
   "display_name": "Python 3",
   "language": "python",
   "name": "python3"
  },
  "language_info": {
   "codemirror_mode": {
    "name": "ipython",
    "version": 3
   },
   "file_extension": ".py",
   "mimetype": "text/x-python",
   "name": "python",
   "nbconvert_exporter": "python",
   "pygments_lexer": "ipython3",
   "version": "3.12.4"
  }
 },
 "nbformat": 4,
 "nbformat_minor": 2
}
